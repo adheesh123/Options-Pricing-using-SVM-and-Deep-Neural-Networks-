{
 "cells": [
  {
   "cell_type": "markdown",
   "metadata": {},
   "source": [
    "# PREDICTING THE PREMIUM OF EUROPEAN CALL OPTIONS USING SVM AND ANN"
   ]
  },
  {
   "cell_type": "markdown",
   "metadata": {},
   "source": [
    "## BACKGROUND \n",
    "\n",
    "Traditionally options are priced using Black Scholes Merton model. BSM is a partial differential equation derived from the assumtion that the world is risk neutral and that the price of the option is a function of underlying asset price and time. Neural networks have been used to value options since a couple of decades due to the computational efficiency which can handle the complexity of a PDE. "
   ]
  },
  {
   "cell_type": "markdown",
   "metadata": {},
   "source": [
    "## APPROACH\n",
    "In this short research, I have tried to model the price of a European Call option using SVM And ANN with two layers and four layers. For SVM , I have used both Linear and RBF kernels. This is model comparison study for both the aformentioned algorithms. The evaluation metric used is RMSE. "
   ]
  },
  {
   "cell_type": "markdown",
   "metadata": {},
   "source": [
    "## DATASET \n",
    "The data set used is generated using sophisticated mathematical models. The code for data generation is in R.(refer data_generation.R file for code).  The reason for using R to generate the data is due to availability of the package 'sde' which can be used to simulate stock prices using Geometric Brownian otion discreet time model. The data set contains 5 features viz. STOCK, STRIKE, TIME , SIGMA and R. Stock is the stock price simulated using gemoetric brownian motion model with initial stock price of $100. STRIKE is the exercise price of the option, TIME is the time to maturity for that option, SIGMA is the volatility of the option and R is the risk free rate. Adhereing to the work in the paper https://arxiv.org/pdf/1901.08943.pdf, the range of values for these features are taken as follows: \n",
    "\n",
    "STOCK/STRIKE [0.4,1.6]\n",
    "Time to maturity(TIME) [0.2,1.1]\n",
    "Risk free rate (R) [0.02,0.1]\n",
    "Volatility(sigma) [0.01,1.0] \n",
    "\n",
    "And finally the Black scholes price which is the target variable in this dataset (BS) is calculated using the user defined function of the partital differential equation in R. (refer https://www.youtube.com/watch?v=t6UslMuO-Ao&feature=youtu.be) \n",
    "\n",
    "60,000 instances are created using this model. \n"
   ]
  },
  {
   "cell_type": "code",
   "execution_count": 14,
   "metadata": {},
   "outputs": [],
   "source": [
    "import pandas as pd\n",
    "import numpy as np\n",
    "import matplotlib.pyplot as pltS\n",
    "from sklearn import preprocessing\n",
    "from sklearn.preprocessing import LabelEncoder\n",
    "from sklearn.preprocessing import OneHotEncoder\n",
    "import seaborn as sns\n",
    "from sklearn.metrics import confusion_matrix\n",
    "from sklearn import metrics\n",
    "from sklearn.model_selection import train_test_split, GridSearchCV, cross_val_score, ShuffleSplit\n",
    "from sklearn.naive_bayes import GaussianNB, BernoulliNB, MultinomialNB"
   ]
  },
  {
   "cell_type": "code",
   "execution_count": 7,
   "metadata": {},
   "outputs": [
    {
     "name": "stdout",
     "output_type": "stream",
     "text": [
      "/Users/adheeshphadnis\n"
     ]
    }
   ],
   "source": [
    "import os\n",
    "\n",
    "path = os.getcwd()\n",
    "\n",
    "print(path)\n",
    "os.chdir('/Users/adheeshphadnis/Desktop')\n",
    "\n",
    "path = os.getcwd()"
   ]
  },
  {
   "cell_type": "markdown",
   "metadata": {},
   "source": [
    "## Exploring the data "
   ]
  },
  {
   "cell_type": "code",
   "execution_count": 8,
   "metadata": {},
   "outputs": [],
   "source": [
    "mydata = pd.read_csv('options_data.csv')"
   ]
  },
  {
   "cell_type": "code",
   "execution_count": 10,
   "metadata": {},
   "outputs": [
    {
     "data": {
      "text/html": [
       "<div>\n",
       "<style scoped>\n",
       "    .dataframe tbody tr th:only-of-type {\n",
       "        vertical-align: middle;\n",
       "    }\n",
       "\n",
       "    .dataframe tbody tr th {\n",
       "        vertical-align: top;\n",
       "    }\n",
       "\n",
       "    .dataframe thead th {\n",
       "        text-align: right;\n",
       "    }\n",
       "</style>\n",
       "<table border=\"1\" class=\"dataframe\">\n",
       "  <thead>\n",
       "    <tr style=\"text-align: right;\">\n",
       "      <th></th>\n",
       "      <th>Stock</th>\n",
       "      <th>Strike</th>\n",
       "      <th>Time</th>\n",
       "      <th>sigma</th>\n",
       "      <th>r</th>\n",
       "      <th>BS</th>\n",
       "    </tr>\n",
       "  </thead>\n",
       "  <tbody>\n",
       "    <tr>\n",
       "      <td>0</td>\n",
       "      <td>100.000000</td>\n",
       "      <td>94.597445</td>\n",
       "      <td>0.536456</td>\n",
       "      <td>0.218530</td>\n",
       "      <td>0.043981</td>\n",
       "      <td>10.673107</td>\n",
       "    </tr>\n",
       "    <tr>\n",
       "      <td>1</td>\n",
       "      <td>99.897538</td>\n",
       "      <td>90.907506</td>\n",
       "      <td>0.514215</td>\n",
       "      <td>0.511877</td>\n",
       "      <td>0.042241</td>\n",
       "      <td>19.894459</td>\n",
       "    </tr>\n",
       "    <tr>\n",
       "      <td>2</td>\n",
       "      <td>100.466298</td>\n",
       "      <td>88.164295</td>\n",
       "      <td>0.648659</td>\n",
       "      <td>0.253949</td>\n",
       "      <td>0.013314</td>\n",
       "      <td>15.880142</td>\n",
       "    </tr>\n",
       "    <tr>\n",
       "      <td>3</td>\n",
       "      <td>99.851640</td>\n",
       "      <td>51.863055</td>\n",
       "      <td>0.371761</td>\n",
       "      <td>0.448270</td>\n",
       "      <td>0.036807</td>\n",
       "      <td>48.739175</td>\n",
       "    </tr>\n",
       "    <tr>\n",
       "      <td>4</td>\n",
       "      <td>99.939012</td>\n",
       "      <td>46.348945</td>\n",
       "      <td>0.947809</td>\n",
       "      <td>0.558971</td>\n",
       "      <td>0.016412</td>\n",
       "      <td>55.505074</td>\n",
       "    </tr>\n",
       "  </tbody>\n",
       "</table>\n",
       "</div>"
      ],
      "text/plain": [
       "        Stock     Strike      Time     sigma         r         BS\n",
       "0  100.000000  94.597445  0.536456  0.218530  0.043981  10.673107\n",
       "1   99.897538  90.907506  0.514215  0.511877  0.042241  19.894459\n",
       "2  100.466298  88.164295  0.648659  0.253949  0.013314  15.880142\n",
       "3   99.851640  51.863055  0.371761  0.448270  0.036807  48.739175\n",
       "4   99.939012  46.348945  0.947809  0.558971  0.016412  55.505074"
      ]
     },
     "execution_count": 10,
     "metadata": {},
     "output_type": "execute_result"
    }
   ],
   "source": [
    "mydata = mydata.drop('Unnamed: 0',axis = 1)\n",
    "mydata.head()"
   ]
  },
  {
   "cell_type": "markdown",
   "metadata": {},
   "source": [
    "### Plotting Stock price data "
   ]
  },
  {
   "cell_type": "code",
   "execution_count": 12,
   "metadata": {},
   "outputs": [
    {
     "data": {
      "image/png": "[encoded data removed]",
      "text/plain": [
       "<Figure size 432x288 with 1 Axes>"
      ]
     },
     "metadata": {
      "needs_background": "light"
     },
     "output_type": "display_data"
    }
   ],
   "source": [
    "import matplotlib.pyplot as plt\n",
    "plt.plot(mydata.index, mydata['Stock'])\n",
    "plt.xlabel(\"time\")\n",
    "plt.ylabel(\"$ price\")\n",
    "plt.show()"
   ]
  },
  {
   "cell_type": "markdown",
   "metadata": {},
   "source": [
    "### Correlation plot "
   ]
  },
  {
   "cell_type": "code",
   "execution_count": 16,
   "metadata": {},
   "outputs": [
    {
     "data": {
      "image/png": "[encoded data removed]",
      "text/plain": [
       "<Figure size 432x288 with 2 Axes>"
      ]
     },
     "metadata": {
      "needs_background": "light"
     },
     "output_type": "display_data"
    }
   ],
   "source": [
    "corr = mydata.corr()\n",
    "ax = sns.heatmap(\n",
    "    corr, \n",
    "    vmin=-1, vmax=1, center=0,\n",
    "    cmap=sns.diverging_palette(20, 220, n=200),\n",
    "    square=True\n",
    ")\n",
    "ax.set_xticklabels(\n",
    "    ax.get_xticklabels(),\n",
    "    rotation=45,\n",
    "    horizontalalignment='right'\n",
    ");"
   ]
  },
  {
   "cell_type": "markdown",
   "metadata": {},
   "source": [
    "All variables  have fairly strong correlation with the BS price. This is expected as the option premium is based on the features. "
   ]
  },
  {
   "cell_type": "markdown",
   "metadata": {},
   "source": [
    "# SVM with RBF kernel "
   ]
  },
  {
   "cell_type": "code",
   "execution_count": 15,
   "metadata": {},
   "outputs": [
    {
     "name": "stdout",
     "output_type": "stream",
     "text": [
      "(48000, 5)\n",
      "(48000,)\n"
     ]
    }
   ],
   "source": [
    "X = mydata.drop('BS', axis=1)\n",
    "y = mydata['BS']\n",
    "\n",
    "X_train, X_test, y_train, y_test =  train_test_split(X, y, test_size=0.2, random_state=16)\n",
    "print(X_train.shape)\n",
    "print(y_train.shape)"
   ]
  },
  {
   "cell_type": "code",
   "execution_count": 89,
   "metadata": {},
   "outputs": [],
   "source": [
    "import pandas as pd \n",
    "import numpy as np \n",
    "from sklearn.metrics import classification_report, confusion_matrix \n",
    "from sklearn.svm import SVC\n",
    "from sklearn import svm\n",
    "from sklearn.model_selection import ShuffleSplit\n",
    "import statistics"
   ]
  },
  {
   "cell_type": "markdown",
   "metadata": {},
   "source": [
    "## Standardizing data "
   ]
  },
  {
   "cell_type": "code",
   "execution_count": 18,
   "metadata": {},
   "outputs": [],
   "source": [
    "from sklearn.preprocessing import StandardScaler\n",
    "scaler = StandardScaler()\n",
    "scaler.fit(X_train)\n",
    "\n",
    "X_train_std = scaler.transform(X_train)\n",
    "X_test_std = scaler.transform(X_test)"
   ]
  },
  {
   "cell_type": "code",
   "execution_count": 19,
   "metadata": {},
   "outputs": [
    {
     "data": {
      "text/html": [
       "<div>\n",
       "<style scoped>\n",
       "    .dataframe tbody tr th:only-of-type {\n",
       "        vertical-align: middle;\n",
       "    }\n",
       "\n",
       "    .dataframe tbody tr th {\n",
       "        vertical-align: top;\n",
       "    }\n",
       "\n",
       "    .dataframe thead th {\n",
       "        text-align: right;\n",
       "    }\n",
       "</style>\n",
       "<table border=\"1\" class=\"dataframe\">\n",
       "  <thead>\n",
       "    <tr style=\"text-align: right;\">\n",
       "      <th></th>\n",
       "      <th>Stock</th>\n",
       "      <th>Strike</th>\n",
       "      <th>Time</th>\n",
       "      <th>sigma</th>\n",
       "      <th>r</th>\n",
       "    </tr>\n",
       "  </thead>\n",
       "  <tbody>\n",
       "    <tr>\n",
       "      <td>0</td>\n",
       "      <td>-0.600614</td>\n",
       "      <td>-0.104408</td>\n",
       "      <td>1.257865</td>\n",
       "      <td>-0.831835</td>\n",
       "      <td>-1.337399</td>\n",
       "    </tr>\n",
       "    <tr>\n",
       "      <td>1</td>\n",
       "      <td>-1.232352</td>\n",
       "      <td>-0.835981</td>\n",
       "      <td>-0.805935</td>\n",
       "      <td>-0.697150</td>\n",
       "      <td>-0.857257</td>\n",
       "    </tr>\n",
       "    <tr>\n",
       "      <td>2</td>\n",
       "      <td>-0.732977</td>\n",
       "      <td>0.449404</td>\n",
       "      <td>-1.395126</td>\n",
       "      <td>0.279379</td>\n",
       "      <td>-0.061074</td>\n",
       "    </tr>\n",
       "    <tr>\n",
       "      <td>3</td>\n",
       "      <td>0.435787</td>\n",
       "      <td>-0.483422</td>\n",
       "      <td>0.743262</td>\n",
       "      <td>-1.600505</td>\n",
       "      <td>-1.373824</td>\n",
       "    </tr>\n",
       "    <tr>\n",
       "      <td>4</td>\n",
       "      <td>2.970203</td>\n",
       "      <td>-0.460416</td>\n",
       "      <td>-1.308319</td>\n",
       "      <td>-0.913916</td>\n",
       "      <td>-0.280974</td>\n",
       "    </tr>\n",
       "  </tbody>\n",
       "</table>\n",
       "</div>"
      ],
      "text/plain": [
       "      Stock    Strike      Time     sigma         r\n",
       "0 -0.600614 -0.104408  1.257865 -0.831835 -1.337399\n",
       "1 -1.232352 -0.835981 -0.805935 -0.697150 -0.857257\n",
       "2 -0.732977  0.449404 -1.395126  0.279379 -0.061074\n",
       "3  0.435787 -0.483422  0.743262 -1.600505 -1.373824\n",
       "4  2.970203 -0.460416 -1.308319 -0.913916 -0.280974"
      ]
     },
     "execution_count": 19,
     "metadata": {},
     "output_type": "execute_result"
    }
   ],
   "source": [
    "X_train_std = pd.DataFrame(X_train_std, columns = X.columns)\n",
    "X_train_std.head()\n",
    "\n"
   ]
  },
  {
   "cell_type": "code",
   "execution_count": 20,
   "metadata": {},
   "outputs": [],
   "source": [
    "X_test_std = pd.DataFrame(X_test_std, columns = X.columns)"
   ]
  },
  {
   "cell_type": "markdown",
   "metadata": {},
   "source": [
    "## Building baseline model "
   ]
  },
  {
   "cell_type": "code",
   "execution_count": 21,
   "metadata": {},
   "outputs": [
    {
     "data": {
      "text/plain": [
       "SVR(C=1.0, cache_size=200, coef0=0.0, degree=3, epsilon=0.1, gamma='scale',\n",
       "    kernel='rbf', max_iter=-1, shrinking=True, tol=0.001, verbose=False)"
      ]
     },
     "execution_count": 21,
     "metadata": {},
     "output_type": "execute_result"
    }
   ],
   "source": [
    "from sklearn.svm import SVR\n",
    "svm_rbf = SVR()\n",
    "svm_rbf.fit(X_train_std,y_train)"
   ]
  },
  {
   "cell_type": "code",
   "execution_count": 22,
   "metadata": {},
   "outputs": [],
   "source": [
    "svm_rbf_preds = svm_rbf.predict(X_test_std)"
   ]
  },
  {
   "cell_type": "code",
   "execution_count": 29,
   "metadata": {},
   "outputs": [
    {
     "data": {
      "text/plain": [
       "0.5125114735936677"
      ]
     },
     "execution_count": 29,
     "metadata": {},
     "output_type": "execute_result"
    }
   ],
   "source": [
    "from sklearn.metrics import mean_squared_error\n",
    "from math import sqrt\n",
    "\n",
    "rms = sqrt(mean_squared_error(y_test,svm_rbf_preds))\n",
    "rms"
   ]
  },
  {
   "cell_type": "markdown",
   "metadata": {},
   "source": [
    "## Tuning using CV "
   ]
  },
  {
   "cell_type": "code",
   "execution_count": 24,
   "metadata": {},
   "outputs": [
    {
     "name": "stdout",
     "output_type": "stream",
     "text": [
      "Fitting 5 folds for each of 16 candidates, totalling 80 fits\n"
     ]
    },
    {
     "name": "stderr",
     "output_type": "stream",
     "text": [
      "[Parallel(n_jobs=-1)]: Using backend LokyBackend with 4 concurrent workers.\n",
      "[Parallel(n_jobs=-1)]: Done  33 tasks      | elapsed:  9.8min\n",
      "[Parallel(n_jobs=-1)]: Done  80 out of  80 | elapsed: 113.4min finished\n"
     ]
    },
    {
     "data": {
      "text/plain": [
       "GridSearchCV(cv=ShuffleSplit(n_splits=5, random_state=0, test_size=0.3, train_size=None),\n",
       "             error_score=nan,\n",
       "             estimator=SVR(C=1.0, cache_size=200, coef0=0.0, degree=3,\n",
       "                           epsilon=0.1, gamma='scale', kernel='rbf',\n",
       "                           max_iter=-1, shrinking=True, tol=0.001,\n",
       "                           verbose=False),\n",
       "             iid='deprecated', n_jobs=-1,\n",
       "             param_grid={'C': [0.1, 1, 10, 100],\n",
       "                         'gamma': [1, 0.1, 0.01, 0.001]},\n",
       "             pre_dispatch='2*n_jobs', refit=True, return_train_score=False,\n",
       "             scoring=None, verbose=2)"
      ]
     },
     "execution_count": 24,
     "metadata": {},
     "output_type": "execute_result"
    }
   ],
   "source": [
    "from sklearn.model_selection import ShuffleSplit\n",
    "from sklearn.model_selection import train_test_split, GridSearchCV, cross_val_score, ShuffleSplit\n",
    "\n",
    "bs = ShuffleSplit(n_splits=5,test_size=0.3,random_state=0)\n",
    "param_grid = {'C':[0.1,1, 10, 100],'gamma': [1,0.1,0.01,0.001]}\n",
    "\n",
    "grid1 = GridSearchCV(SVR(),param_grid,refit=True,verbose=2, cv = bs, n_jobs = -1)\n",
    "grid1.fit(X_train_std,y_train)"
   ]
  },
  {
   "cell_type": "code",
   "execution_count": 25,
   "metadata": {},
   "outputs": [
    {
     "data": {
      "text/plain": [
       "{'C': 100, 'gamma': 0.1}"
      ]
     },
     "execution_count": 25,
     "metadata": {},
     "output_type": "execute_result"
    }
   ],
   "source": [
    "grid1.best_params_"
   ]
  },
  {
   "cell_type": "code",
   "execution_count": 27,
   "metadata": {},
   "outputs": [],
   "source": [
    "cv_preds = grid1.predict(X_test_std)"
   ]
  },
  {
   "cell_type": "code",
   "execution_count": 31,
   "metadata": {},
   "outputs": [
    {
     "data": {
      "text/plain": [
       "0.11604279967030848"
      ]
     },
     "execution_count": 31,
     "metadata": {},
     "output_type": "execute_result"
    }
   ],
   "source": [
    "rms = sqrt(mean_squared_error(y_test,cv_preds))\n",
    "rms"
   ]
  },
  {
   "cell_type": "markdown",
   "metadata": {},
   "source": [
    "### We can see that the rmse decreases significantly with CV parameters. "
   ]
  },
  {
   "cell_type": "code",
   "execution_count": 32,
   "metadata": {},
   "outputs": [
    {
     "data": {
      "text/html": [
       "<div>\n",
       "<style scoped>\n",
       "    .dataframe tbody tr th:only-of-type {\n",
       "        vertical-align: middle;\n",
       "    }\n",
       "\n",
       "    .dataframe tbody tr th {\n",
       "        vertical-align: top;\n",
       "    }\n",
       "\n",
       "    .dataframe thead th {\n",
       "        text-align: right;\n",
       "    }\n",
       "</style>\n",
       "<table border=\"1\" class=\"dataframe\">\n",
       "  <thead>\n",
       "    <tr style=\"text-align: right;\">\n",
       "      <th></th>\n",
       "      <th>BS</th>\n",
       "      <th>SVM RBF</th>\n",
       "    </tr>\n",
       "  </thead>\n",
       "  <tbody>\n",
       "    <tr>\n",
       "      <td>9066</td>\n",
       "      <td>35.716664</td>\n",
       "      <td>35.803856</td>\n",
       "    </tr>\n",
       "    <tr>\n",
       "      <td>478</td>\n",
       "      <td>27.568956</td>\n",
       "      <td>27.545839</td>\n",
       "    </tr>\n",
       "    <tr>\n",
       "      <td>26862</td>\n",
       "      <td>65.251166</td>\n",
       "      <td>65.268609</td>\n",
       "    </tr>\n",
       "    <tr>\n",
       "      <td>26238</td>\n",
       "      <td>48.290685</td>\n",
       "      <td>48.225181</td>\n",
       "    </tr>\n",
       "    <tr>\n",
       "      <td>40741</td>\n",
       "      <td>42.830820</td>\n",
       "      <td>42.918403</td>\n",
       "    </tr>\n",
       "    <tr>\n",
       "      <td>...</td>\n",
       "      <td>...</td>\n",
       "      <td>...</td>\n",
       "    </tr>\n",
       "    <tr>\n",
       "      <td>16356</td>\n",
       "      <td>32.442186</td>\n",
       "      <td>32.343963</td>\n",
       "    </tr>\n",
       "    <tr>\n",
       "      <td>17184</td>\n",
       "      <td>31.748947</td>\n",
       "      <td>31.637351</td>\n",
       "    </tr>\n",
       "    <tr>\n",
       "      <td>31655</td>\n",
       "      <td>14.577980</td>\n",
       "      <td>14.550523</td>\n",
       "    </tr>\n",
       "    <tr>\n",
       "      <td>14309</td>\n",
       "      <td>43.312323</td>\n",
       "      <td>43.393730</td>\n",
       "    </tr>\n",
       "    <tr>\n",
       "      <td>5444</td>\n",
       "      <td>43.042270</td>\n",
       "      <td>43.103670</td>\n",
       "    </tr>\n",
       "  </tbody>\n",
       "</table>\n",
       "<p>12001 rows × 2 columns</p>\n",
       "</div>"
      ],
      "text/plain": [
       "              BS    SVM RBF\n",
       "9066   35.716664  35.803856\n",
       "478    27.568956  27.545839\n",
       "26862  65.251166  65.268609\n",
       "26238  48.290685  48.225181\n",
       "40741  42.830820  42.918403\n",
       "...          ...        ...\n",
       "16356  32.442186  32.343963\n",
       "17184  31.748947  31.637351\n",
       "31655  14.577980  14.550523\n",
       "14309  43.312323  43.393730\n",
       "5444   43.042270  43.103670\n",
       "\n",
       "[12001 rows x 2 columns]"
      ]
     },
     "execution_count": 32,
     "metadata": {},
     "output_type": "execute_result"
    }
   ],
   "source": [
    "comparison = {\n",
    "    'BS' : y_test,\n",
    "    'SVM RBF' : cv_preds,\n",
    "\n",
    "}\n",
    "\n",
    "comparison_rbf_SVR = pd.DataFrame(comparison)\n",
    "comparison_rbf_SVR"
   ]
  },
  {
   "cell_type": "markdown",
   "metadata": {},
   "source": [
    "## SVM with Linear kernel "
   ]
  },
  {
   "cell_type": "code",
   "execution_count": 59,
   "metadata": {},
   "outputs": [
    {
     "data": {
      "text/plain": [
       "SVR(C=1.0, cache_size=200, coef0=0.0, degree=3, epsilon=0.1, gamma='scale',\n",
       "    kernel='linear', max_iter=-1, shrinking=True, tol=0.001, verbose=False)"
      ]
     },
     "execution_count": 59,
     "metadata": {},
     "output_type": "execute_result"
    }
   ],
   "source": [
    "svm_linear = SVR(kernel = 'linear')\n",
    "svm_linear.fit(X_train_std,y_train)"
   ]
  },
  {
   "cell_type": "code",
   "execution_count": 61,
   "metadata": {},
   "outputs": [],
   "source": [
    "predictions_linear = svm_linear.predict(X_test_std)"
   ]
  },
  {
   "cell_type": "code",
   "execution_count": 62,
   "metadata": {},
   "outputs": [
    {
     "data": {
      "text/html": [
       "<div>\n",
       "<style scoped>\n",
       "    .dataframe tbody tr th:only-of-type {\n",
       "        vertical-align: middle;\n",
       "    }\n",
       "\n",
       "    .dataframe tbody tr th {\n",
       "        vertical-align: top;\n",
       "    }\n",
       "\n",
       "    .dataframe thead th {\n",
       "        text-align: right;\n",
       "    }\n",
       "</style>\n",
       "<table border=\"1\" class=\"dataframe\">\n",
       "  <thead>\n",
       "    <tr style=\"text-align: right;\">\n",
       "      <th></th>\n",
       "      <th>BS</th>\n",
       "      <th>SVM Linear</th>\n",
       "    </tr>\n",
       "  </thead>\n",
       "  <tbody>\n",
       "    <tr>\n",
       "      <td>9066</td>\n",
       "      <td>35.716664</td>\n",
       "      <td>32.906370</td>\n",
       "    </tr>\n",
       "    <tr>\n",
       "      <td>478</td>\n",
       "      <td>27.568956</td>\n",
       "      <td>18.893762</td>\n",
       "    </tr>\n",
       "    <tr>\n",
       "      <td>26862</td>\n",
       "      <td>65.251166</td>\n",
       "      <td>64.889537</td>\n",
       "    </tr>\n",
       "    <tr>\n",
       "      <td>26238</td>\n",
       "      <td>48.290685</td>\n",
       "      <td>47.728029</td>\n",
       "    </tr>\n",
       "    <tr>\n",
       "      <td>40741</td>\n",
       "      <td>42.830820</td>\n",
       "      <td>45.148999</td>\n",
       "    </tr>\n",
       "    <tr>\n",
       "      <td>...</td>\n",
       "      <td>...</td>\n",
       "      <td>...</td>\n",
       "    </tr>\n",
       "    <tr>\n",
       "      <td>16356</td>\n",
       "      <td>32.442186</td>\n",
       "      <td>30.091239</td>\n",
       "    </tr>\n",
       "    <tr>\n",
       "      <td>17184</td>\n",
       "      <td>31.748947</td>\n",
       "      <td>17.515701</td>\n",
       "    </tr>\n",
       "    <tr>\n",
       "      <td>31655</td>\n",
       "      <td>14.577980</td>\n",
       "      <td>12.329912</td>\n",
       "    </tr>\n",
       "    <tr>\n",
       "      <td>14309</td>\n",
       "      <td>43.312323</td>\n",
       "      <td>44.466451</td>\n",
       "    </tr>\n",
       "    <tr>\n",
       "      <td>5444</td>\n",
       "      <td>43.042270</td>\n",
       "      <td>35.956840</td>\n",
       "    </tr>\n",
       "  </tbody>\n",
       "</table>\n",
       "<p>12001 rows × 2 columns</p>\n",
       "</div>"
      ],
      "text/plain": [
       "              BS  SVM Linear\n",
       "9066   35.716664   32.906370\n",
       "478    27.568956   18.893762\n",
       "26862  65.251166   64.889537\n",
       "26238  48.290685   47.728029\n",
       "40741  42.830820   45.148999\n",
       "...          ...         ...\n",
       "16356  32.442186   30.091239\n",
       "17184  31.748947   17.515701\n",
       "31655  14.577980   12.329912\n",
       "14309  43.312323   44.466451\n",
       "5444   43.042270   35.956840\n",
       "\n",
       "[12001 rows x 2 columns]"
      ]
     },
     "execution_count": 62,
     "metadata": {},
     "output_type": "execute_result"
    }
   ],
   "source": [
    "comparison = {\n",
    "    'BS' : y_test,\n",
    "    'SVM Linear' : predictions_linear,\n",
    "\n",
    "}\n",
    "\n",
    "comparison_linear_SVR = pd.DataFrame(comparison)\n",
    "comparison_linear_SVR"
   ]
  },
  {
   "cell_type": "code",
   "execution_count": 63,
   "metadata": {},
   "outputs": [
    {
     "data": {
      "text/plain": [
       "3.287429139792727"
      ]
     },
     "execution_count": 63,
     "metadata": {},
     "output_type": "execute_result"
    }
   ],
   "source": [
    "from sklearn.metrics import mean_squared_error\n",
    "from math import sqrt\n",
    "\n",
    "rms = sqrt(mean_squared_error(y_test,predictions_linear))\n",
    "rms"
   ]
  },
  {
   "cell_type": "markdown",
   "metadata": {},
   "source": [
    "## CV Linear kernel "
   ]
  },
  {
   "cell_type": "code",
   "execution_count": 35,
   "metadata": {},
   "outputs": [
    {
     "name": "stdout",
     "output_type": "stream",
     "text": [
      "Fitting 5 folds for each of 4 candidates, totalling 20 fits\n"
     ]
    },
    {
     "name": "stderr",
     "output_type": "stream",
     "text": [
      "[Parallel(n_jobs=-1)]: Using backend LokyBackend with 4 concurrent workers.\n",
      "[Parallel(n_jobs=-1)]: Done  20 out of  20 | elapsed: 48.0min finished\n"
     ]
    },
    {
     "data": {
      "text/plain": [
       "GridSearchCV(cv=ShuffleSplit(n_splits=5, random_state=0, test_size=0.3, train_size=None),\n",
       "             error_score=nan,\n",
       "             estimator=SVR(C=1.0, cache_size=200, coef0=0.0, degree=3,\n",
       "                           epsilon=0.1, gamma='scale', kernel='linear',\n",
       "                           max_iter=-1, shrinking=True, tol=0.001,\n",
       "                           verbose=False),\n",
       "             iid='deprecated', n_jobs=-1, param_grid={'C': [0.1, 1, 10, 100]},\n",
       "             pre_dispatch='2*n_jobs', refit=True, return_train_score=False,\n",
       "             scoring=None, verbose=2)"
      ]
     },
     "execution_count": 35,
     "metadata": {},
     "output_type": "execute_result"
    }
   ],
   "source": [
    "bs = ShuffleSplit(n_splits=5,test_size=0.3,random_state=0)\n",
    "param_grid2 = {'C':[0.1,1, 10, 100]}\n",
    "\n",
    "grid2 = GridSearchCV(SVR(kernel = 'linear'),param_grid2 ,refit=True,verbose=2, cv = bs, n_jobs = -1)\n",
    "grid2.fit(X_train_std,y_train)"
   ]
  },
  {
   "cell_type": "code",
   "execution_count": 36,
   "metadata": {},
   "outputs": [
    {
     "data": {
      "text/plain": [
       "{'C': 0.1}"
      ]
     },
     "execution_count": 36,
     "metadata": {},
     "output_type": "execute_result"
    }
   ],
   "source": [
    "grid2.best_params_"
   ]
  },
  {
   "cell_type": "code",
   "execution_count": 41,
   "metadata": {},
   "outputs": [
    {
     "data": {
      "text/plain": [
       "array([32.88707483, 18.95400486, 64.85415599, ..., 12.37691935,\n",
       "       44.47267414, 36.00243032])"
      ]
     },
     "execution_count": 41,
     "metadata": {},
     "output_type": "execute_result"
    }
   ],
   "source": [
    "cv_preds2 = grid2.predict(X_test_std)\n",
    "cv_preds2"
   ]
  },
  {
   "cell_type": "code",
   "execution_count": 38,
   "metadata": {},
   "outputs": [
    {
     "data": {
      "text/plain": [
       "3.278363793764422"
      ]
     },
     "execution_count": 38,
     "metadata": {},
     "output_type": "execute_result"
    }
   ],
   "source": [
    "rms = sqrt(mean_squared_error(y_test,cv_preds2))\n",
    "rms"
   ]
  },
  {
   "cell_type": "markdown",
   "metadata": {},
   "source": [
    "#### We can see that RMSE does not change significantly after CV. "
   ]
  },
  {
   "cell_type": "code",
   "execution_count": 40,
   "metadata": {},
   "outputs": [
    {
     "data": {
      "text/html": [
       "<div>\n",
       "<style scoped>\n",
       "    .dataframe tbody tr th:only-of-type {\n",
       "        vertical-align: middle;\n",
       "    }\n",
       "\n",
       "    .dataframe tbody tr th {\n",
       "        vertical-align: top;\n",
       "    }\n",
       "\n",
       "    .dataframe thead th {\n",
       "        text-align: right;\n",
       "    }\n",
       "</style>\n",
       "<table border=\"1\" class=\"dataframe\">\n",
       "  <thead>\n",
       "    <tr style=\"text-align: right;\">\n",
       "      <th></th>\n",
       "      <th>BS</th>\n",
       "      <th>SVM Linear</th>\n",
       "      <th>SVM RBF</th>\n",
       "    </tr>\n",
       "  </thead>\n",
       "  <tbody>\n",
       "    <tr>\n",
       "      <td>9066</td>\n",
       "      <td>35.716664</td>\n",
       "      <td>32.887075</td>\n",
       "      <td>35.803856</td>\n",
       "    </tr>\n",
       "    <tr>\n",
       "      <td>478</td>\n",
       "      <td>27.568956</td>\n",
       "      <td>18.954005</td>\n",
       "      <td>27.545839</td>\n",
       "    </tr>\n",
       "    <tr>\n",
       "      <td>26862</td>\n",
       "      <td>65.251166</td>\n",
       "      <td>64.854156</td>\n",
       "      <td>65.268609</td>\n",
       "    </tr>\n",
       "    <tr>\n",
       "      <td>26238</td>\n",
       "      <td>48.290685</td>\n",
       "      <td>47.739650</td>\n",
       "      <td>48.225181</td>\n",
       "    </tr>\n",
       "    <tr>\n",
       "      <td>40741</td>\n",
       "      <td>42.830820</td>\n",
       "      <td>45.145412</td>\n",
       "      <td>42.918403</td>\n",
       "    </tr>\n",
       "    <tr>\n",
       "      <td>...</td>\n",
       "      <td>...</td>\n",
       "      <td>...</td>\n",
       "      <td>...</td>\n",
       "    </tr>\n",
       "    <tr>\n",
       "      <td>16356</td>\n",
       "      <td>32.442186</td>\n",
       "      <td>30.128535</td>\n",
       "      <td>32.343963</td>\n",
       "    </tr>\n",
       "    <tr>\n",
       "      <td>17184</td>\n",
       "      <td>31.748947</td>\n",
       "      <td>17.587739</td>\n",
       "      <td>31.637351</td>\n",
       "    </tr>\n",
       "    <tr>\n",
       "      <td>31655</td>\n",
       "      <td>14.577980</td>\n",
       "      <td>12.376919</td>\n",
       "      <td>14.550523</td>\n",
       "    </tr>\n",
       "    <tr>\n",
       "      <td>14309</td>\n",
       "      <td>43.312323</td>\n",
       "      <td>44.472674</td>\n",
       "      <td>43.393730</td>\n",
       "    </tr>\n",
       "    <tr>\n",
       "      <td>5444</td>\n",
       "      <td>43.042270</td>\n",
       "      <td>36.002430</td>\n",
       "      <td>43.103670</td>\n",
       "    </tr>\n",
       "  </tbody>\n",
       "</table>\n",
       "<p>12001 rows × 3 columns</p>\n",
       "</div>"
      ],
      "text/plain": [
       "              BS  SVM Linear    SVM RBF\n",
       "9066   35.716664   32.887075  35.803856\n",
       "478    27.568956   18.954005  27.545839\n",
       "26862  65.251166   64.854156  65.268609\n",
       "26238  48.290685   47.739650  48.225181\n",
       "40741  42.830820   45.145412  42.918403\n",
       "...          ...         ...        ...\n",
       "16356  32.442186   30.128535  32.343963\n",
       "17184  31.748947   17.587739  31.637351\n",
       "31655  14.577980   12.376919  14.550523\n",
       "14309  43.312323   44.472674  43.393730\n",
       "5444   43.042270   36.002430  43.103670\n",
       "\n",
       "[12001 rows x 3 columns]"
      ]
     },
     "execution_count": 40,
     "metadata": {},
     "output_type": "execute_result"
    }
   ],
   "source": [
    "comparison1 = {\n",
    "    'BS' : y_test,\n",
    "    'SVM Linear' : cv_preds2,\n",
    "    'SVM RBF': cv_preds\n",
    "\n",
    "}\n",
    "\n",
    "comparison_linrbf = pd.DataFrame(comparison1)\n",
    "comparison_linrbf"
   ]
  },
  {
   "cell_type": "code",
   "execution_count": 42,
   "metadata": {},
   "outputs": [
    {
     "data": {
      "image/png": "[encoded data removed]",
      "text/plain": [
       "<Figure size 432x288 with 1 Axes>"
      ]
     },
     "metadata": {
      "needs_background": "light"
     },
     "output_type": "display_data"
    }
   ],
   "source": [
    "plt.plot(X_test_std.index[:5], comparison1['BS'][:5], label = 'BS')\n",
    "plt.plot(X_test_std.index[:5],comparison1['SVM Linear'][:5], label = 'SVM Linear')\n",
    "plt.plot(X_test_std.index[:5], comparison1['SVM RBF'][:5], label = 'SVM RBF')\n",
    "plt.legend()\n",
    "plt.show()\n"
   ]
  },
  {
   "cell_type": "markdown",
   "metadata": {},
   "source": [
    "## Neural Net\n",
    "\n",
    "Discussion: \n",
    "\n",
    "In this modeling approach, 2 layer and 4 layer deep neural networks are used. The modeling experimentation is done with different neurons in each hidden layer, batch size, epochs, dropout rate. The loss function used is RMSE. The activation function for hidden layers is 'relu'. The activation function for the output node is linear since it is a regression problem. "
   ]
  },
  {
   "cell_type": "code",
   "execution_count": 44,
   "metadata": {},
   "outputs": [
    {
     "name": "stderr",
     "output_type": "stream",
     "text": [
      "Using TensorFlow backend.\n"
     ]
    }
   ],
   "source": [
    "\n",
    "import pandas\n",
    "from keras.models import Sequential\n",
    "from keras.layers import Dense\n",
    "from keras.wrappers.scikit_learn import KerasRegressor\n",
    "from sklearn.model_selection import cross_val_score\n",
    "from sklearn.model_selection import KFold\n",
    "from sklearn.preprocessing import StandardScaler\n",
    "from sklearn.pipeline import Pipeline\n",
    "import tensorflow as tf\n",
    "import keras\n",
    "from keras import layers\n",
    "from keras import models\n",
    "from keras import utils\n",
    "from keras.layers import Dense\n",
    "from keras.models import Sequential\n",
    "from keras.layers import Flatten\n",
    "from keras.layers import Dropout\n",
    "from keras.layers import Activation\n",
    "from keras.regularizers import l2\n",
    "from keras.optimizers import SGD\n",
    "from keras.optimizers import RMSprop\n",
    "\n",
    "from keras.callbacks import LearningRateScheduler\n",
    "from keras.callbacks import History\n",
    "\n",
    "from keras import losses\n",
    "from sklearn.utils import shuffle"
   ]
  },
  {
   "cell_type": "markdown",
   "metadata": {},
   "source": [
    "### Function for MSE"
   ]
  },
  {
   "cell_type": "code",
   "execution_count": 46,
   "metadata": {},
   "outputs": [],
   "source": [
    "def mse(model):\n",
    "    plt.plot(model.history['mse'])\n",
    "    plt.plot(model.history['val_mse'])\n",
    "    plt.title('Model mse')\n",
    "    plt.ylabel('Loss')\n",
    "    plt.xlabel('Epoch')\n",
    "    plt.legend(['Train', 'Val'], loc='lower right')\n",
    "    plt.show()"
   ]
  },
  {
   "cell_type": "markdown",
   "metadata": {},
   "source": [
    "### Function for Deep Neural Nets with2 and 4 hidden layers"
   ]
  },
  {
   "cell_type": "code",
   "execution_count": 49,
   "metadata": {},
   "outputs": [],
   "source": [
    "def ann2(neurons1, neurons2,dropout,batch_size, epochs):\n",
    "    model_ann2 = Sequential([\n",
    "    Dense(neurons1, activation='relu', input_shape=(5,)),\n",
    "    Dropout(dropout),\n",
    "    Dense(neurons2, activation='relu'),\n",
    "    Dropout(dropout),\n",
    "    Dense(1),\n",
    "    ])\n",
    "\n",
    "    model_ann2.compile(loss='mse', optimizer='adam', metrics = ['mse'])\n",
    "\n",
    "    hist_ann2 = model_ann2.fit(X_train_std, y_train,\n",
    "            batch_size=batch_size, epochs=epochs,\n",
    "            validation_data=(X_test_std, y_test), verbose = 0)\n",
    "\n",
    "    mse(hist_ann2)\n",
    "    import statistics\n",
    "    print('Mean Validation Accuracy:', statistics.mean(hist_ann2.history['val_mse']))"
   ]
  },
  {
   "cell_type": "code",
   "execution_count": 77,
   "metadata": {},
   "outputs": [],
   "source": [
    "def ann3(neurons1, neurons2,neurons3,neurons4,dropout,batch_size, epochs):\n",
    "    model_ann2 = Sequential([\n",
    "    Dense(neurons1, activation='relu', input_shape=(5,)),\n",
    "    Dropout(dropout),\n",
    "    Dense(neurons2, activation='relu'),\n",
    "    Dropout(dropout),\n",
    "    Dense(neurons3, activation='relu'),\n",
    "    Dropout(dropout),\n",
    "    Dense(neurons4, activation='relu'),\n",
    "    Dropout(dropout),\n",
    "    Dense(1),\n",
    "    ])\n",
    "\n",
    "    model_ann2.compile(loss='mse', optimizer='adam', metrics = ['mse'])\n",
    "\n",
    "    hist_ann2 = model_ann2.fit(X_train_std, y_train,\n",
    "            batch_size=batch_size, epochs=epochs,\n",
    "            validation_data=(X_test_std, y_test), verbose = 0)\n",
    "\n",
    "    mse(hist_ann2)\n",
    "\n",
    "    print('Mean Validation Accuracy:', statistics.mean(hist_ann2.history['val_mse']))"
   ]
  },
  {
   "cell_type": "markdown",
   "metadata": {},
   "source": [
    "### Sample Results of experiments "
   ]
  },
  {
   "cell_type": "code",
   "execution_count": 50,
   "metadata": {},
   "outputs": [
    {
     "data": {
      "image/png": "[encoded data removed]",
      "text/plain": [
       "<Figure size 432x288 with 1 Axes>"
      ]
     },
     "metadata": {
      "needs_background": "light"
     },
     "output_type": "display_data"
    },
    {
     "name": "stdout",
     "output_type": "stream",
     "text": [
      "Mean Validation Accuracy: 2.3968043446540834\n"
     ]
    }
   ],
   "source": [
    "ann2(64,64,0.2,64,100)"
   ]
  },
  {
   "cell_type": "code",
   "execution_count": 51,
   "metadata": {},
   "outputs": [
    {
     "data": {
      "image/png": "[encoded data removed]",
      "text/plain": [
       "<Figure size 432x288 with 1 Axes>"
      ]
     },
     "metadata": {
      "needs_background": "light"
     },
     "output_type": "display_data"
    },
    {
     "name": "stdout",
     "output_type": "stream",
     "text": [
      "Mean Validation Accuracy: 0.8643233131291345\n"
     ]
    }
   ],
   "source": [
    "ann2(64,128,0.0,256,100)"
   ]
  },
  {
   "cell_type": "code",
   "execution_count": 82,
   "metadata": {},
   "outputs": [
    {
     "data": {
      "image/png": "[encoded data removed]",
      "text/plain": [
       "<Figure size 432x288 with 1 Axes>"
      ]
     },
     "metadata": {
      "needs_background": "light"
     },
     "output_type": "display_data"
    },
    {
     "name": "stdout",
     "output_type": "stream",
     "text": [
      "Mean Validation Accuracy: 0.3195454790396616\n"
     ]
    }
   ],
   "source": [
    "ann3(32,64,128,128,0.0,256,100)"
   ]
  },
  {
   "cell_type": "markdown",
   "metadata": {},
   "source": [
    "### Interpretation \n",
    "We can see that deep neural networks with 4 hidden layers performs better than 2 layered network. After experimenting, it was found that dropout rate 0 works good. "
   ]
  },
  {
   "cell_type": "markdown",
   "metadata": {},
   "source": [
    "## FINAL MODEL "
   ]
  },
  {
   "cell_type": "code",
   "execution_count": 83,
   "metadata": {},
   "outputs": [],
   "source": [
    "model_ann2 = Sequential([\n",
    "Dense(32, activation='relu', input_shape=(5,)),\n",
    "Dropout(0.0),\n",
    "Dense(64, activation='relu'),\n",
    "Dropout(0.0),\n",
    "Dense(128, activation='relu'),\n",
    "Dropout(0.0),\n",
    "Dense(128, activation='relu'),\n",
    "Dropout(0.0),\n",
    "Dense(1),\n",
    "])\n",
    "\n",
    "model_ann2.compile(loss='mse', optimizer='adam', metrics = ['mse'])\n",
    "\n",
    "model_ann2.fit(X_train_std, y_train,\n",
    "            batch_size= 256, epochs=100, verbose = 0)\n",
    "\n",
    "ann_pred = model_ann2.predict(X_test_std)\n",
    "\n"
   ]
  },
  {
   "cell_type": "markdown",
   "metadata": {},
   "source": [
    "## Extracting predictions "
   ]
  },
  {
   "cell_type": "code",
   "execution_count": 84,
   "metadata": {},
   "outputs": [
    {
     "data": {
      "text/plain": [
       "[35.76234, 27.668636, 65.39084, 48.43021, 42.85241]"
      ]
     },
     "execution_count": 84,
     "metadata": {},
     "output_type": "execute_result"
    }
   ],
   "source": [
    "ann_pred1 = []\n",
    "for i in range(len(ann_pred)):\n",
    "    a = ann_pred[i][0]\n",
    "    ann_pred1.append(a)\n",
    "    \n",
    "ann_pred1[:5]\n",
    "\n"
   ]
  },
  {
   "cell_type": "markdown",
   "metadata": {},
   "source": [
    "## Tabular comparison of all models "
   ]
  },
  {
   "cell_type": "code",
   "execution_count": 67,
   "metadata": {},
   "outputs": [
    {
     "data": {
      "text/html": [
       "<div>\n",
       "<style scoped>\n",
       "    .dataframe tbody tr th:only-of-type {\n",
       "        vertical-align: middle;\n",
       "    }\n",
       "\n",
       "    .dataframe tbody tr th {\n",
       "        vertical-align: top;\n",
       "    }\n",
       "\n",
       "    .dataframe thead th {\n",
       "        text-align: right;\n",
       "    }\n",
       "</style>\n",
       "<table border=\"1\" class=\"dataframe\">\n",
       "  <thead>\n",
       "    <tr style=\"text-align: right;\">\n",
       "      <th></th>\n",
       "      <th>BS</th>\n",
       "      <th>SVM Linear</th>\n",
       "      <th>SVM RBF</th>\n",
       "      <th>ANN</th>\n",
       "    </tr>\n",
       "  </thead>\n",
       "  <tbody>\n",
       "    <tr>\n",
       "      <td>9066</td>\n",
       "      <td>35.716664</td>\n",
       "      <td>32.887075</td>\n",
       "      <td>35.803856</td>\n",
       "      <td>35.672970</td>\n",
       "    </tr>\n",
       "    <tr>\n",
       "      <td>478</td>\n",
       "      <td>27.568956</td>\n",
       "      <td>18.954005</td>\n",
       "      <td>27.545839</td>\n",
       "      <td>27.734961</td>\n",
       "    </tr>\n",
       "    <tr>\n",
       "      <td>26862</td>\n",
       "      <td>65.251166</td>\n",
       "      <td>64.854156</td>\n",
       "      <td>65.268609</td>\n",
       "      <td>65.248695</td>\n",
       "    </tr>\n",
       "    <tr>\n",
       "      <td>26238</td>\n",
       "      <td>48.290685</td>\n",
       "      <td>47.739650</td>\n",
       "      <td>48.225181</td>\n",
       "      <td>48.394409</td>\n",
       "    </tr>\n",
       "    <tr>\n",
       "      <td>40741</td>\n",
       "      <td>42.830820</td>\n",
       "      <td>45.145412</td>\n",
       "      <td>42.918403</td>\n",
       "      <td>42.754280</td>\n",
       "    </tr>\n",
       "    <tr>\n",
       "      <td>...</td>\n",
       "      <td>...</td>\n",
       "      <td>...</td>\n",
       "      <td>...</td>\n",
       "      <td>...</td>\n",
       "    </tr>\n",
       "    <tr>\n",
       "      <td>16356</td>\n",
       "      <td>32.442186</td>\n",
       "      <td>30.128535</td>\n",
       "      <td>32.343963</td>\n",
       "      <td>32.489388</td>\n",
       "    </tr>\n",
       "    <tr>\n",
       "      <td>17184</td>\n",
       "      <td>31.748947</td>\n",
       "      <td>17.587739</td>\n",
       "      <td>31.637351</td>\n",
       "      <td>31.941620</td>\n",
       "    </tr>\n",
       "    <tr>\n",
       "      <td>31655</td>\n",
       "      <td>14.577980</td>\n",
       "      <td>12.376919</td>\n",
       "      <td>14.550523</td>\n",
       "      <td>14.521057</td>\n",
       "    </tr>\n",
       "    <tr>\n",
       "      <td>14309</td>\n",
       "      <td>43.312323</td>\n",
       "      <td>44.472674</td>\n",
       "      <td>43.393730</td>\n",
       "      <td>43.385460</td>\n",
       "    </tr>\n",
       "    <tr>\n",
       "      <td>5444</td>\n",
       "      <td>43.042270</td>\n",
       "      <td>36.002430</td>\n",
       "      <td>43.103670</td>\n",
       "      <td>42.976448</td>\n",
       "    </tr>\n",
       "  </tbody>\n",
       "</table>\n",
       "<p>12001 rows × 4 columns</p>\n",
       "</div>"
      ],
      "text/plain": [
       "              BS  SVM Linear    SVM RBF        ANN\n",
       "9066   35.716664   32.887075  35.803856  35.672970\n",
       "478    27.568956   18.954005  27.545839  27.734961\n",
       "26862  65.251166   64.854156  65.268609  65.248695\n",
       "26238  48.290685   47.739650  48.225181  48.394409\n",
       "40741  42.830820   45.145412  42.918403  42.754280\n",
       "...          ...         ...        ...        ...\n",
       "16356  32.442186   30.128535  32.343963  32.489388\n",
       "17184  31.748947   17.587739  31.637351  31.941620\n",
       "31655  14.577980   12.376919  14.550523  14.521057\n",
       "14309  43.312323   44.472674  43.393730  43.385460\n",
       "5444   43.042270   36.002430  43.103670  42.976448\n",
       "\n",
       "[12001 rows x 4 columns]"
      ]
     },
     "execution_count": 67,
     "metadata": {},
     "output_type": "execute_result"
    }
   ],
   "source": [
    "comparison2 = {\n",
    "    'BS' : y_test,\n",
    "    'SVM Linear' : cv_preds2,\n",
    "    'SVM RBF': cv_preds,\n",
    "    'ANN': ann_pred1\n",
    "\n",
    "}\n",
    "\n",
    "comparison = pd.DataFrame(comparison2)\n",
    "comparison"
   ]
  },
  {
   "cell_type": "markdown",
   "metadata": {},
   "source": [
    "### Graphical comparison of model predictions with BS"
   ]
  },
  {
   "cell_type": "code",
   "execution_count": 86,
   "metadata": {},
   "outputs": [
    {
     "data": {
      "image/png": "[encoded data removed]",
      "text/plain": [
       "<Figure size 432x288 with 1 Axes>"
      ]
     },
     "metadata": {
      "needs_background": "light"
     },
     "output_type": "display_data"
    }
   ],
   "source": [
    "plt.plot(X_test_std.index[:100], comparison['BS'][:100],'ko--', label = 'BS')\n",
    "plt.plot(X_test_std.index[:100],comparison['SVM Linear'][:100], label = 'SVM Linear')\n",
    "plt.plot(X_test_std.index[:100], comparison['SVM RBF'][:100], label = 'SVM RBF')\n",
    "plt.plot(X_test_std.index[:100], comparison['ANN'][:100], label = 'ANN')\n",
    "plt.legend()\n",
    "plt.show()"
   ]
  },
  {
   "cell_type": "code",
   "execution_count": 87,
   "metadata": {},
   "outputs": [
    {
     "data": {
      "image/png": "[encoded data removed]",
      "text/plain": [
       "<Figure size 432x288 with 1 Axes>"
      ]
     },
     "metadata": {
      "needs_background": "light"
     },
     "output_type": "display_data"
    }
   ],
   "source": [
    "plt.plot(X_test_std.index, comparison['BS'], label = 'BS')\n",
    "plt.plot(X_test_std.index,comparison['SVM Linear'], label = 'SVM Linear')\n",
    "plt.plot(X_test_std.index, comparison['SVM RBF'], label = 'SVM RBF')\n",
    "plt.plot(X_test_std.index, comparison['ANN'], label = 'ANN')\n",
    "plt.legend()\n",
    "plt.show()"
   ]
  },
  {
   "cell_type": "markdown",
   "metadata": {},
   "source": [
    "## Prediction accuracy ranking of Algorithms "
   ]
  },
  {
   "cell_type": "code",
   "execution_count": 94,
   "metadata": {},
   "outputs": [
    {
     "data": {
      "text/html": [
       "<div>\n",
       "<style scoped>\n",
       "    .dataframe tbody tr th:only-of-type {\n",
       "        vertical-align: middle;\n",
       "    }\n",
       "\n",
       "    .dataframe tbody tr th {\n",
       "        vertical-align: top;\n",
       "    }\n",
       "\n",
       "    .dataframe thead th {\n",
       "        text-align: right;\n",
       "    }\n",
       "</style>\n",
       "<table border=\"1\" class=\"dataframe\">\n",
       "  <thead>\n",
       "    <tr style=\"text-align: right;\">\n",
       "      <th></th>\n",
       "      <th>SVM RBF</th>\n",
       "      <th>ANN</th>\n",
       "      <th>SVM Linear</th>\n",
       "    </tr>\n",
       "  </thead>\n",
       "  <tbody>\n",
       "    <tr>\n",
       "      <td>0</td>\n",
       "      <td>0.12</td>\n",
       "      <td>0.32</td>\n",
       "      <td>3.29</td>\n",
       "    </tr>\n",
       "  </tbody>\n",
       "</table>\n",
       "</div>"
      ],
      "text/plain": [
       "   SVM RBF   ANN  SVM Linear\n",
       "0     0.12  0.32        3.29"
      ]
     },
     "execution_count": 94,
     "metadata": {},
     "output_type": "execute_result"
    }
   ],
   "source": [
    "algo_rank = {\n",
    "    \n",
    "    'SVM RBF' : 0.12 ,\n",
    "    'ANN': 0.32,\n",
    "    'SVM Linear': 3.29\n",
    "\n",
    "}\n",
    "\n",
    "algo_rank1 = pd.DataFrame(algo_rank, index = [0])\n",
    "algo_rank1"
   ]
  },
  {
   "cell_type": "markdown",
   "metadata": {},
   "source": [
    "# CONCLUSION\n",
    "\n",
    "#### After extensive modelling experiments with SVM and ANN we can see that the models predict the option premium very close to the Black Scholes model. However best results are obtained with SVM with RBF kernel. "
   ]
  }
 ],
 "metadata": {
  "kernelspec": {
   "display_name": "Python 3",
   "language": "python",
   "name": "python3"
  }
 },
 "nbformat": 4,
 "nbformat_minor": 2
}
